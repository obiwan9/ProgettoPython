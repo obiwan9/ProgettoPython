{
 "cells": [
  {
   "cell_type": "markdown",
   "id": "92002b58",
   "metadata": {},
   "source": [
    "# P3: Il migliore di tutti"
   ]
  },
  {
   "cell_type": "markdown",
   "id": "25e7d160",
   "metadata": {},
   "source": [
    "### importo le librerie che mi serviranno"
   ]
  },
  {
   "cell_type": "code",
   "execution_count": 3,
   "id": "1d25c9fe",
   "metadata": {},
   "outputs": [
    {
     "data": {
      "text/plain": [
       "['Game',\n",
       " '__builtins__',\n",
       " '__cached__',\n",
       " '__doc__',\n",
       " '__file__',\n",
       " '__loader__',\n",
       " '__name__',\n",
       " '__package__',\n",
       " '__spec__',\n",
       " 'bayesian_rating',\n",
       " 'conta_rating',\n",
       " 'conta_rating_positivi',\n",
       " 'differenza',\n",
       " 'math',\n",
       " 'np',\n",
       " 'pd',\n",
       " 'pearsonr',\n",
       " 'rapporto',\n",
       " 'similarity',\n",
       " 'st',\n",
       " 'unique_values',\n",
       " 'wilson']"
      ]
     },
     "execution_count": 3,
     "metadata": {},
     "output_type": "execute_result"
    }
   ],
   "source": [
    "import pandas as pd \n",
    "import matplotlib.pyplot as plt\n",
    "import seaborn as sns\n",
    "import os\n",
    "os.chdir( \"C:/Users/Rossig/Desktop/Master/Ferrara\\ \" )\n",
    "import Funzioni\n",
    "dir(Funzioni)"
   ]
  },
  {
   "cell_type": "markdown",
   "id": "b6d63bcf",
   "metadata": {},
   "source": [
    "### importo il dataset"
   ]
  },
  {
   "cell_type": "code",
   "execution_count": 4,
   "id": "f4ebf12b",
   "metadata": {},
   "outputs": [
    {
     "data": {
      "text/plain": [
       "1082167"
      ]
     },
     "execution_count": 4,
     "metadata": {},
     "output_type": "execute_result"
    }
   ],
   "source": [
    "df=pd.read_csv(\"bgg.csv\")\n",
    "len(df)"
   ]
  },
  {
   "cell_type": "markdown",
   "id": "b1d6660a",
   "metadata": {},
   "source": [
    "Verifico la presenza di valori mancanti"
   ]
  },
  {
   "cell_type": "code",
   "execution_count": 5,
   "id": "091d8a9c",
   "metadata": {},
   "outputs": [
    {
     "name": "stdout",
     "output_type": "stream",
     "text": [
      "game           0\n",
      "title          0\n",
      "rating    375354\n",
      "dtype: int64\n"
     ]
    }
   ],
   "source": [
    "missing_values = df.isnull().sum()\n",
    "print(missing_values)"
   ]
  },
  {
   "cell_type": "markdown",
   "id": "a59bd061",
   "metadata": {},
   "source": [
    "La colonna rating presenta 375.534 missing values, li elimino dal dataframe"
   ]
  },
  {
   "cell_type": "code",
   "execution_count": null,
   "id": "21761d58",
   "metadata": {},
   "outputs": [],
   "source": [
    "df=df.dropna()\n",
    "df.head()"
   ]
  },
  {
   "cell_type": "code",
   "execution_count": 7,
   "id": "c701ef93",
   "metadata": {},
   "outputs": [
    {
     "data": {
      "text/plain": [
       "(706813, 3)"
      ]
     },
     "execution_count": 7,
     "metadata": {},
     "output_type": "execute_result"
    }
   ],
   "source": [
    "df.shape"
   ]
  },
  {
   "cell_type": "markdown",
   "id": "4fb05fa2",
   "metadata": {},
   "source": [
    "Il dataset risultante ha 706.813 righe e 3 colonne"
   ]
  },
  {
   "cell_type": "markdown",
   "id": "8e7657b4",
   "metadata": {},
   "source": [
    "# Algoritmo differenza"
   ]
  },
  {
   "cell_type": "markdown",
   "id": "ae7d79d1",
   "metadata": {},
   "source": [
    "Elaboro il primo algoritmo di rating dato dalla differenza tra i positivi e i negativi"
   ]
  },
  {
   "cell_type": "markdown",
   "id": "298c519d",
   "metadata": {},
   "source": [
    "$Score = \\text{Differenza} ={\\text{Positivi - }}{\\text{Negativi}}$"
   ]
  },
  {
   "cell_type": "code",
   "execution_count": 8,
   "id": "f192c74a",
   "metadata": {},
   "outputs": [
    {
     "data": {
      "text/html": [
       "<div>\n",
       "<style scoped>\n",
       "    .dataframe tbody tr th:only-of-type {\n",
       "        vertical-align: middle;\n",
       "    }\n",
       "\n",
       "    .dataframe tbody tr th {\n",
       "        vertical-align: top;\n",
       "    }\n",
       "\n",
       "    .dataframe thead th {\n",
       "        text-align: right;\n",
       "    }\n",
       "</style>\n",
       "<table border=\"1\" class=\"dataframe\">\n",
       "  <thead>\n",
       "    <tr style=\"text-align: right;\">\n",
       "      <th></th>\n",
       "      <th>game</th>\n",
       "      <th>differenza</th>\n",
       "    </tr>\n",
       "  </thead>\n",
       "  <tbody>\n",
       "    <tr>\n",
       "      <th>0</th>\n",
       "      <td>1</td>\n",
       "      <td>41</td>\n",
       "    </tr>\n",
       "    <tr>\n",
       "      <th>1</th>\n",
       "      <td>2</td>\n",
       "      <td>4</td>\n",
       "    </tr>\n",
       "    <tr>\n",
       "      <th>2</th>\n",
       "      <td>3</td>\n",
       "      <td>64</td>\n",
       "    </tr>\n",
       "    <tr>\n",
       "      <th>3</th>\n",
       "      <td>4</td>\n",
       "      <td>9</td>\n",
       "    </tr>\n",
       "    <tr>\n",
       "      <th>4</th>\n",
       "      <td>5</td>\n",
       "      <td>48</td>\n",
       "    </tr>\n",
       "    <tr>\n",
       "      <th>...</th>\n",
       "      <td>...</td>\n",
       "      <td>...</td>\n",
       "    </tr>\n",
       "    <tr>\n",
       "      <th>23805</th>\n",
       "      <td>305682</td>\n",
       "      <td>18</td>\n",
       "    </tr>\n",
       "    <tr>\n",
       "      <th>23806</th>\n",
       "      <td>306494</td>\n",
       "      <td>7</td>\n",
       "    </tr>\n",
       "    <tr>\n",
       "      <th>23807</th>\n",
       "      <td>306577</td>\n",
       "      <td>5</td>\n",
       "    </tr>\n",
       "    <tr>\n",
       "      <th>23808</th>\n",
       "      <td>308565</td>\n",
       "      <td>11</td>\n",
       "    </tr>\n",
       "    <tr>\n",
       "      <th>23809</th>\n",
       "      <td>310100</td>\n",
       "      <td>3</td>\n",
       "    </tr>\n",
       "  </tbody>\n",
       "</table>\n",
       "<p>23810 rows × 2 columns</p>\n",
       "</div>"
      ],
      "text/plain": [
       "         game  differenza\n",
       "0           1          41\n",
       "1           2           4\n",
       "2           3          64\n",
       "3           4           9\n",
       "4           5          48\n",
       "...       ...         ...\n",
       "23805  305682          18\n",
       "23806  306494           7\n",
       "23807  306577           5\n",
       "23808  308565          11\n",
       "23809  310100           3\n",
       "\n",
       "[23810 rows x 2 columns]"
      ]
     },
     "execution_count": 8,
     "metadata": {},
     "output_type": "execute_result"
    }
   ],
   "source": [
    "Algoritmo1=Funzioni.differenza(df[\"game\"],df[\"rating\"])\n",
    "Algoritmo1"
   ]
  },
  {
   "cell_type": "markdown",
   "id": "ee50744f",
   "metadata": {},
   "source": [
    "Algoritmo 1 assegna ad ogni gioco la differenza tra i rating positivi e negativi"
   ]
  },
  {
   "cell_type": "markdown",
   "id": "418bb00a",
   "metadata": {},
   "source": [
    "# Algoritmo Rapporto"
   ]
  },
  {
   "cell_type": "markdown",
   "id": "9e0836be",
   "metadata": {},
   "source": [
    "Il secondo algoritmo è dato dal peso dei positivi sui totali"
   ]
  },
  {
   "cell_type": "markdown",
   "id": "0cc8d723",
   "metadata": {},
   "source": [
    "$Score = \\text{Rating medio} = \\frac{\\text{Positivi}}{\\text{Totali}}$"
   ]
  },
  {
   "cell_type": "code",
   "execution_count": 9,
   "id": "f2e62a10",
   "metadata": {},
   "outputs": [
    {
     "data": {
      "text/html": [
       "<div>\n",
       "<style scoped>\n",
       "    .dataframe tbody tr th:only-of-type {\n",
       "        vertical-align: middle;\n",
       "    }\n",
       "\n",
       "    .dataframe tbody tr th {\n",
       "        vertical-align: top;\n",
       "    }\n",
       "\n",
       "    .dataframe thead th {\n",
       "        text-align: right;\n",
       "    }\n",
       "</style>\n",
       "<table border=\"1\" class=\"dataframe\">\n",
       "  <thead>\n",
       "    <tr style=\"text-align: right;\">\n",
       "      <th></th>\n",
       "      <th>game</th>\n",
       "      <th>rapporto</th>\n",
       "    </tr>\n",
       "  </thead>\n",
       "  <tbody>\n",
       "    <tr>\n",
       "      <th>0</th>\n",
       "      <td>1</td>\n",
       "      <td>0.904110</td>\n",
       "    </tr>\n",
       "    <tr>\n",
       "      <th>1</th>\n",
       "      <td>2</td>\n",
       "      <td>0.779412</td>\n",
       "    </tr>\n",
       "    <tr>\n",
       "      <th>2</th>\n",
       "      <td>3</td>\n",
       "      <td>0.964286</td>\n",
       "    </tr>\n",
       "    <tr>\n",
       "      <th>3</th>\n",
       "      <td>4</td>\n",
       "      <td>0.767123</td>\n",
       "    </tr>\n",
       "    <tr>\n",
       "      <th>4</th>\n",
       "      <td>5</td>\n",
       "      <td>0.912500</td>\n",
       "    </tr>\n",
       "    <tr>\n",
       "      <th>...</th>\n",
       "      <td>...</td>\n",
       "      <td>...</td>\n",
       "    </tr>\n",
       "    <tr>\n",
       "      <th>23805</th>\n",
       "      <td>305682</td>\n",
       "      <td>0.852941</td>\n",
       "    </tr>\n",
       "    <tr>\n",
       "      <th>23806</th>\n",
       "      <td>306494</td>\n",
       "      <td>0.842105</td>\n",
       "    </tr>\n",
       "    <tr>\n",
       "      <th>23807</th>\n",
       "      <td>306577</td>\n",
       "      <td>1.000000</td>\n",
       "    </tr>\n",
       "    <tr>\n",
       "      <th>23808</th>\n",
       "      <td>308565</td>\n",
       "      <td>0.933333</td>\n",
       "    </tr>\n",
       "    <tr>\n",
       "      <th>23809</th>\n",
       "      <td>310100</td>\n",
       "      <td>0.714286</td>\n",
       "    </tr>\n",
       "  </tbody>\n",
       "</table>\n",
       "<p>23810 rows × 2 columns</p>\n",
       "</div>"
      ],
      "text/plain": [
       "         game  rapporto\n",
       "0           1  0.904110\n",
       "1           2  0.779412\n",
       "2           3  0.964286\n",
       "3           4  0.767123\n",
       "4           5  0.912500\n",
       "...       ...       ...\n",
       "23805  305682  0.852941\n",
       "23806  306494  0.842105\n",
       "23807  306577  1.000000\n",
       "23808  308565  0.933333\n",
       "23809  310100  0.714286\n",
       "\n",
       "[23810 rows x 2 columns]"
      ]
     },
     "execution_count": 9,
     "metadata": {},
     "output_type": "execute_result"
    }
   ],
   "source": [
    "Algoritmo2=Funzioni.rapporto(df[\"game\"],df[\"rating\"])\n",
    "Algoritmo2"
   ]
  },
  {
   "cell_type": "markdown",
   "id": "18290b92",
   "metadata": {},
   "source": [
    "# Limite inferiore dell'intervallo di confidenza di Wilson"
   ]
  },
  {
   "cell_type": "markdown",
   "id": "7a65542d",
   "metadata": {},
   "source": [
    "\\begin{equation}\n",
    "Score =\\frac{\\hat{p} + \\frac{z^2}{2n} \\frac{+}{} z\\sqrt{\\frac{\\hat{p}(1-\\hat{p})}{n}+\\frac{z^2}{4n^2}}}{1+\\frac{z^2}{n}}\n",
    "\\end{equation}\n",
    "\n",
    "In questa formula, $\\hat{p}$ è la proporzione di rating positivi, $n$ è l'ampiezza campionaria, e $z$ è lo $z$-score associato all'intervallo di confidenza scelto (nel caso in esame del 95%)."
   ]
  },
  {
   "cell_type": "markdown",
   "id": "fca30e43",
   "metadata": {},
   "source": [
    "La formula conta_rating conta tutti i rating raggruppati per game, conta_rating_positivi conta solo quelli maggiori o uguali di 6.\n",
    "Viene poi creato un DataFrame wilson contenente i valori univoci delle colonne game, totali, positivi."
   ]
  },
  {
   "cell_type": "code",
   "execution_count": 10,
   "id": "4a008d39",
   "metadata": {},
   "outputs": [],
   "source": [
    "df=Funzioni.conta_rating(df)\n",
    "df=Funzioni.conta_rating_positivi(df)\n",
    "wilson=Funzioni.unique_values(df, [\"game\",\"totali\",\"positivi\"])"
   ]
  },
  {
   "cell_type": "code",
   "execution_count": 11,
   "id": "84db7229",
   "metadata": {},
   "outputs": [
    {
     "data": {
      "text/plain": [
       "game        0\n",
       "totali      0\n",
       "positivi    0\n",
       "dtype: int64"
      ]
     },
     "execution_count": 11,
     "metadata": {},
     "output_type": "execute_result"
    }
   ],
   "source": [
    "wilson.isna().sum()"
   ]
  },
  {
   "cell_type": "markdown",
   "id": "1aab1684",
   "metadata": {},
   "source": [
    "All'interno del DataFrame wilson viene creata una colonna wilson attraverso una funzione che calcola il limite inferiore dell'intervallo di confidenza di Wilson."
   ]
  },
  {
   "cell_type": "code",
   "execution_count": 12,
   "id": "5d093fef",
   "metadata": {},
   "outputs": [
    {
     "data": {
      "text/html": [
       "<div>\n",
       "<style scoped>\n",
       "    .dataframe tbody tr th:only-of-type {\n",
       "        vertical-align: middle;\n",
       "    }\n",
       "\n",
       "    .dataframe tbody tr th {\n",
       "        vertical-align: top;\n",
       "    }\n",
       "\n",
       "    .dataframe thead th {\n",
       "        text-align: right;\n",
       "    }\n",
       "</style>\n",
       "<table border=\"1\" class=\"dataframe\">\n",
       "  <thead>\n",
       "    <tr style=\"text-align: right;\">\n",
       "      <th></th>\n",
       "      <th>game</th>\n",
       "      <th>totali</th>\n",
       "      <th>positivi</th>\n",
       "      <th>wilson</th>\n",
       "    </tr>\n",
       "  </thead>\n",
       "  <tbody>\n",
       "    <tr>\n",
       "      <th>0</th>\n",
       "      <td>25984</td>\n",
       "      <td>8</td>\n",
       "      <td>4.0</td>\n",
       "      <td>0.215216</td>\n",
       "    </tr>\n",
       "    <tr>\n",
       "      <th>8</th>\n",
       "      <td>103339</td>\n",
       "      <td>59</td>\n",
       "      <td>58.0</td>\n",
       "      <td>0.910043</td>\n",
       "    </tr>\n",
       "    <tr>\n",
       "      <th>67</th>\n",
       "      <td>132758</td>\n",
       "      <td>60</td>\n",
       "      <td>57.0</td>\n",
       "      <td>0.862995</td>\n",
       "    </tr>\n",
       "    <tr>\n",
       "      <th>127</th>\n",
       "      <td>16497</td>\n",
       "      <td>77</td>\n",
       "      <td>63.0</td>\n",
       "      <td>0.717637</td>\n",
       "    </tr>\n",
       "    <tr>\n",
       "      <th>204</th>\n",
       "      <td>195194</td>\n",
       "      <td>47</td>\n",
       "      <td>41.0</td>\n",
       "      <td>0.748261</td>\n",
       "    </tr>\n",
       "    <tr>\n",
       "      <th>...</th>\n",
       "      <td>...</td>\n",
       "      <td>...</td>\n",
       "      <td>...</td>\n",
       "      <td>...</td>\n",
       "    </tr>\n",
       "    <tr>\n",
       "      <th>706790</th>\n",
       "      <td>11774</td>\n",
       "      <td>8</td>\n",
       "      <td>4.0</td>\n",
       "      <td>0.215216</td>\n",
       "    </tr>\n",
       "    <tr>\n",
       "      <th>706798</th>\n",
       "      <td>11781</td>\n",
       "      <td>3</td>\n",
       "      <td>2.0</td>\n",
       "      <td>0.207660</td>\n",
       "    </tr>\n",
       "    <tr>\n",
       "      <th>706801</th>\n",
       "      <td>11823</td>\n",
       "      <td>6</td>\n",
       "      <td>6.0</td>\n",
       "      <td>0.609666</td>\n",
       "    </tr>\n",
       "    <tr>\n",
       "      <th>706807</th>\n",
       "      <td>11833</td>\n",
       "      <td>1</td>\n",
       "      <td>0.0</td>\n",
       "      <td>0.000000</td>\n",
       "    </tr>\n",
       "    <tr>\n",
       "      <th>706808</th>\n",
       "      <td>11906</td>\n",
       "      <td>5</td>\n",
       "      <td>4.0</td>\n",
       "      <td>0.375535</td>\n",
       "    </tr>\n",
       "  </tbody>\n",
       "</table>\n",
       "<p>23810 rows × 4 columns</p>\n",
       "</div>"
      ],
      "text/plain": [
       "          game  totali  positivi    wilson\n",
       "0        25984       8       4.0  0.215216\n",
       "8       103339      59      58.0  0.910043\n",
       "67      132758      60      57.0  0.862995\n",
       "127      16497      77      63.0  0.717637\n",
       "204     195194      47      41.0  0.748261\n",
       "...        ...     ...       ...       ...\n",
       "706790   11774       8       4.0  0.215216\n",
       "706798   11781       3       2.0  0.207660\n",
       "706801   11823       6       6.0  0.609666\n",
       "706807   11833       1       0.0  0.000000\n",
       "706808   11906       5       4.0  0.375535\n",
       "\n",
       "[23810 rows x 4 columns]"
      ]
     },
     "execution_count": 12,
     "metadata": {},
     "output_type": "execute_result"
    }
   ],
   "source": [
    "wilson[\"wilson\"] = wilson.apply(lambda row: Funzioni.wilson(row['positivi'], row['totali']), axis=1)\n",
    "wilson"
   ]
  },
  {
   "cell_type": "markdown",
   "id": "bcf4af9a",
   "metadata": {},
   "source": [
    "# Approssimazione Bayesiana"
   ]
  },
  {
   "cell_type": "markdown",
   "id": "331ff15f",
   "metadata": {},
   "source": [
    "L'approssimazione bayesiana fornisce un modo per assegnare un punteggio a un prodotto quando viene valutato su una scala a K stelle, è definita dalla seguente formula:\n",
    "\n",
    "$$score = \\frac{1}{N+K}\\sum_{k=1}^{K}\\frac{(k+1)(n_k+1)}{\\sum_{j=1}^{K}(n_j+1)} - z \\sqrt{\\frac{\\frac{1}{N+K}\\sum_{k=1}^{K}\\frac{(k+1)^2(n_k+1)}{\\sum_{j=1}^{K}(n_j+1)} - \\left(\\frac{1}{N+K}\\sum_{k=1}^{K}\\frac{(k+1)(n_k+1)}{\\sum_{j=1}^{K}(n_j+1)}\\right)^2}{N+K+1}}$$\n",
    "\n",
    "dove:\n",
    "\n",
    "    N rappresenta il numero totale di voti;\n",
    "    K rappresenta il numero di categorie di valutazione (nel nostro caso i voti da 1 a 10);\n",
    "    n_k rappresenta il numero di voti per la k-esima categoria di valutazione (numero di voti per la categoria rating=6);\n",
    "    z rappresenta il valore z della distribuzione normale standard per il livello di confidenza desiderato (95%);"
   ]
  },
  {
   "cell_type": "markdown",
   "id": "0d24ef40",
   "metadata": {},
   "source": [
    "La funzione bayesian_rating viene applicata al dataframe df, i valori vengono poi salvati all'interno del dataframe bayes"
   ]
  },
  {
   "cell_type": "code",
   "execution_count": 13,
   "id": "0ad144cd",
   "metadata": {},
   "outputs": [],
   "source": [
    "bayesian_rating = lambda x: Funzioni.bayesian_rating(x.values)\n",
    "bayes=pd.DataFrame(df.groupby('game')['rating'].apply(bayesian_rating))\n",
    "bayes=bayes.rename(columns={'rating': 'rating_bayes'})\n"
   ]
  },
  {
   "cell_type": "markdown",
   "id": "8886e6d3",
   "metadata": {},
   "source": [
    "## Creo una colonna di ranking per ognuno dei 4 dataframe contenenti i 4 possibili metodi di ranking analizzati"
   ]
  },
  {
   "cell_type": "code",
   "execution_count": 14,
   "id": "def07624",
   "metadata": {},
   "outputs": [],
   "source": [
    "Algoritmo1['ranking_1'] = Algoritmo1['differenza'].rank(ascending=False)\n",
    "Algoritmo2['ranking_2'] = Algoritmo2['rapporto'].rank(ascending=False)\n",
    "wilson['ranking_w'] = wilson['wilson'].rank(ascending=False)\n",
    "bayes['ranking_b'] = bayes['rating_bayes'].rank(ascending=False)"
   ]
  },
  {
   "cell_type": "markdown",
   "id": "34d882ff",
   "metadata": {},
   "source": [
    "I 4 rating verranno valutati in base alla loro similarità con il ranking reperito da un file kaggle contenente dati sui giochi in scatola bgg (tra cui il ranking)"
   ]
  },
  {
   "cell_type": "code",
   "execution_count": 15,
   "id": "7dcb8ed4",
   "metadata": {},
   "outputs": [],
   "source": [
    "kaggle=pd.read_csv(\"bgg_kaggle.csv\",sep=\";\",decimal=\",\")\n",
    "kaggle=kaggle.rename(columns={'ID': 'game','BGG Rank': 'ranking_k'})"
   ]
  },
  {
   "cell_type": "markdown",
   "id": "c457740f",
   "metadata": {},
   "source": [
    "Ho rinominato le colonne ID come game e BGG Rank ranking_k in così da avere una nomenclatura omogenea con gli altri ranking"
   ]
  },
  {
   "cell_type": "code",
   "execution_count": 16,
   "id": "587502f6",
   "metadata": {
    "scrolled": true
   },
   "outputs": [
    {
     "data": {
      "text/html": [
       "<div>\n",
       "<style scoped>\n",
       "    .dataframe tbody tr th:only-of-type {\n",
       "        vertical-align: middle;\n",
       "    }\n",
       "\n",
       "    .dataframe tbody tr th {\n",
       "        vertical-align: top;\n",
       "    }\n",
       "\n",
       "    .dataframe thead th {\n",
       "        text-align: right;\n",
       "    }\n",
       "</style>\n",
       "<table border=\"1\" class=\"dataframe\">\n",
       "  <thead>\n",
       "    <tr style=\"text-align: right;\">\n",
       "      <th></th>\n",
       "      <th>game</th>\n",
       "      <th>Name</th>\n",
       "      <th>Year Published</th>\n",
       "      <th>Min Players</th>\n",
       "      <th>Max Players</th>\n",
       "      <th>Play Time</th>\n",
       "      <th>Min Age</th>\n",
       "      <th>Users Rated</th>\n",
       "      <th>Rating Average</th>\n",
       "      <th>ranking_k</th>\n",
       "      <th>Complexity Average</th>\n",
       "      <th>Owned Users</th>\n",
       "      <th>Mechanics</th>\n",
       "      <th>Domains</th>\n",
       "    </tr>\n",
       "  </thead>\n",
       "  <tbody>\n",
       "    <tr>\n",
       "      <th>0</th>\n",
       "      <td>174430.0</td>\n",
       "      <td>Gloomhaven</td>\n",
       "      <td>2017.0</td>\n",
       "      <td>1</td>\n",
       "      <td>4</td>\n",
       "      <td>120</td>\n",
       "      <td>14</td>\n",
       "      <td>42055</td>\n",
       "      <td>8.79</td>\n",
       "      <td>1</td>\n",
       "      <td>3.86</td>\n",
       "      <td>68323.0</td>\n",
       "      <td>Action Queue, Action Retrieval, Campaign / Bat...</td>\n",
       "      <td>Strategy Games, Thematic Games</td>\n",
       "    </tr>\n",
       "    <tr>\n",
       "      <th>1</th>\n",
       "      <td>161936.0</td>\n",
       "      <td>Pandemic Legacy: Season 1</td>\n",
       "      <td>2015.0</td>\n",
       "      <td>2</td>\n",
       "      <td>4</td>\n",
       "      <td>60</td>\n",
       "      <td>13</td>\n",
       "      <td>41643</td>\n",
       "      <td>8.61</td>\n",
       "      <td>2</td>\n",
       "      <td>2.84</td>\n",
       "      <td>65294.0</td>\n",
       "      <td>Action Points, Cooperative Game, Hand Manageme...</td>\n",
       "      <td>Strategy Games, Thematic Games</td>\n",
       "    </tr>\n",
       "    <tr>\n",
       "      <th>2</th>\n",
       "      <td>224517.0</td>\n",
       "      <td>Brass: Birmingham</td>\n",
       "      <td>2018.0</td>\n",
       "      <td>2</td>\n",
       "      <td>4</td>\n",
       "      <td>120</td>\n",
       "      <td>14</td>\n",
       "      <td>19217</td>\n",
       "      <td>8.66</td>\n",
       "      <td>3</td>\n",
       "      <td>3.91</td>\n",
       "      <td>28785.0</td>\n",
       "      <td>Hand Management, Income, Loans, Market, Networ...</td>\n",
       "      <td>Strategy Games</td>\n",
       "    </tr>\n",
       "    <tr>\n",
       "      <th>3</th>\n",
       "      <td>167791.0</td>\n",
       "      <td>Terraforming Mars</td>\n",
       "      <td>2016.0</td>\n",
       "      <td>1</td>\n",
       "      <td>5</td>\n",
       "      <td>120</td>\n",
       "      <td>12</td>\n",
       "      <td>64864</td>\n",
       "      <td>8.43</td>\n",
       "      <td>4</td>\n",
       "      <td>3.24</td>\n",
       "      <td>87099.0</td>\n",
       "      <td>Card Drafting, Drafting, End Game Bonuses, Han...</td>\n",
       "      <td>Strategy Games</td>\n",
       "    </tr>\n",
       "    <tr>\n",
       "      <th>4</th>\n",
       "      <td>233078.0</td>\n",
       "      <td>Twilight Imperium: Fourth Edition</td>\n",
       "      <td>2017.0</td>\n",
       "      <td>3</td>\n",
       "      <td>6</td>\n",
       "      <td>480</td>\n",
       "      <td>14</td>\n",
       "      <td>13468</td>\n",
       "      <td>8.70</td>\n",
       "      <td>5</td>\n",
       "      <td>4.22</td>\n",
       "      <td>16831.0</td>\n",
       "      <td>Action Drafting, Area Majority / Influence, Ar...</td>\n",
       "      <td>Strategy Games, Thematic Games</td>\n",
       "    </tr>\n",
       "  </tbody>\n",
       "</table>\n",
       "</div>"
      ],
      "text/plain": [
       "       game                               Name  Year Published  Min Players  \\\n",
       "0  174430.0                         Gloomhaven          2017.0            1   \n",
       "1  161936.0          Pandemic Legacy: Season 1          2015.0            2   \n",
       "2  224517.0                  Brass: Birmingham          2018.0            2   \n",
       "3  167791.0                  Terraforming Mars          2016.0            1   \n",
       "4  233078.0  Twilight Imperium: Fourth Edition          2017.0            3   \n",
       "\n",
       "   Max Players  Play Time  Min Age  Users Rated  Rating Average  ranking_k  \\\n",
       "0            4        120       14        42055            8.79          1   \n",
       "1            4         60       13        41643            8.61          2   \n",
       "2            4        120       14        19217            8.66          3   \n",
       "3            5        120       12        64864            8.43          4   \n",
       "4            6        480       14        13468            8.70          5   \n",
       "\n",
       "   Complexity Average  Owned Users  \\\n",
       "0                3.86      68323.0   \n",
       "1                2.84      65294.0   \n",
       "2                3.91      28785.0   \n",
       "3                3.24      87099.0   \n",
       "4                4.22      16831.0   \n",
       "\n",
       "                                           Mechanics  \\\n",
       "0  Action Queue, Action Retrieval, Campaign / Bat...   \n",
       "1  Action Points, Cooperative Game, Hand Manageme...   \n",
       "2  Hand Management, Income, Loans, Market, Networ...   \n",
       "3  Card Drafting, Drafting, End Game Bonuses, Han...   \n",
       "4  Action Drafting, Area Majority / Influence, Ar...   \n",
       "\n",
       "                          Domains  \n",
       "0  Strategy Games, Thematic Games  \n",
       "1  Strategy Games, Thematic Games  \n",
       "2                  Strategy Games  \n",
       "3                  Strategy Games  \n",
       "4  Strategy Games, Thematic Games  "
      ]
     },
     "execution_count": 16,
     "metadata": {},
     "output_type": "execute_result"
    }
   ],
   "source": [
    "kaggle.head()"
   ]
  },
  {
   "cell_type": "code",
   "execution_count": 17,
   "id": "8b2e0721",
   "metadata": {},
   "outputs": [
    {
     "data": {
      "text/plain": [
       "20343"
      ]
     },
     "execution_count": 17,
     "metadata": {},
     "output_type": "execute_result"
    }
   ],
   "source": [
    "len(kaggle)"
   ]
  },
  {
   "cell_type": "markdown",
   "id": "2d5d62be",
   "metadata": {},
   "source": [
    "Unisco i 5 dataframe"
   ]
  },
  {
   "cell_type": "code",
   "execution_count": 18,
   "id": "71c6bfd6",
   "metadata": {},
   "outputs": [
    {
     "name": "stdout",
     "output_type": "stream",
     "text": [
      "game         0\n",
      "ranking_1    0\n",
      "ranking_2    0\n",
      "ranking_w    0\n",
      "ranking_b    0\n",
      "ranking_k    0\n",
      "dtype: int64\n"
     ]
    }
   ],
   "source": [
    "# Unisco i primi due DataFrame\n",
    "Rank = pd.merge(Algoritmo1, Algoritmo2, on='game')\n",
    "# Unisco il terzo DataFrame\n",
    "Rank = pd.merge(Rank, wilson, on='game')\n",
    "# Unisco il quarto DataFrame\n",
    "Rank = pd.merge(Rank, bayes, on='game')\n",
    "#Unisco il quinto\n",
    "Rank = pd.merge(Rank, kaggle, on='game')\n",
    "\n",
    "# Seleziono solo le colonne \"game\" e i cinque ranking\n",
    "Rank = Rank[['game', 'ranking_1', 'ranking_2', 'ranking_w', 'ranking_b','ranking_k']]\n",
    "Rank[\"game\"]=Rank[\"game\"].astype(str)\n",
    "print(Rank.isna().sum())"
   ]
  },
  {
   "cell_type": "markdown",
   "id": "f13ab2f0",
   "metadata": {},
   "source": [
    "quanti record ci sono in comune?"
   ]
  },
  {
   "cell_type": "code",
   "execution_count": 19,
   "id": "61ac371c",
   "metadata": {},
   "outputs": [
    {
     "name": "stdout",
     "output_type": "stream",
     "text": [
      "Ci sono 17022 record (distinti) in comune tra i dataframe analizzati, il 71.5% di quelli originari\n"
     ]
    }
   ],
   "source": [
    "count_originale=wilson[\"game\"].nunique()\n",
    "count_merged = Rank['game'].nunique()\n",
    "quota=count_merged/count_originale\n",
    "print(\"Ci sono {} record (distinti) in comune tra i dataframe analizzati, il {:.1%} di quelli originari\".format(count_merged,quota))"
   ]
  },
  {
   "cell_type": "markdown",
   "id": "05769b6d",
   "metadata": {},
   "source": [
    "Confronto con ranking_k ritenuto un benchmark i 4 ranking per similarità tramite la funzione similarity"
   ]
  },
  {
   "cell_type": "code",
   "execution_count": 20,
   "id": "dac384e6",
   "metadata": {
    "scrolled": true
   },
   "outputs": [
    {
     "data": {
      "text/plain": [
       "ranking_1 vs ranking_k    75.85\n",
       "ranking_2 vs ranking_k    72.46\n",
       "ranking_w vs ranking_k    85.43\n",
       "ranking_b vs ranking_k    60.94\n",
       "dtype: float64"
      ]
     },
     "execution_count": 20,
     "metadata": {},
     "output_type": "execute_result"
    }
   ],
   "source": [
    "Funzioni.similarity(Rank)"
   ]
  },
  {
   "cell_type": "markdown",
   "id": "af30521b",
   "metadata": {},
   "source": [
    "Il ranking ottenuto tramite il  Limite inferiore dell'intervallo di confidenza di Wilson risulta essere il migliore in quanto più simile a quello \"ufficiale\" otttenuto tramite il dataset BGG Rank"
   ]
  },
  {
   "cell_type": "code",
   "execution_count": 21,
   "id": "02d0b6dc",
   "metadata": {},
   "outputs": [
    {
     "data": {
      "image/png": "[encoded data removed]",
      "text/plain": [
       "<Figure size 432x288 with 2 Axes>"
      ]
     },
     "metadata": {
      "needs_background": "light"
     },
     "output_type": "display_data"
    }
   ],
   "source": [
    "# Calcolo la matrice di correlazione\n",
    "corr_matrix = Rank.corr(method='pearson')\n",
    "# Creo una heatmap per visualizzare la matrice di correlazione\n",
    "sns.heatmap(corr_matrix, annot=True)\n",
    "plt.title('Correlazione tra i Ranking')\n",
    "plt.show()"
   ]
  },
  {
   "cell_type": "markdown",
   "id": "0204a960",
   "metadata": {},
   "source": [
    "Guardando l'ultima riga del grafico (o colonna) appare evidente come il migliore ranking sia quello di Wilson, seguito dalla differenza e dal rapporto.\n",
    "Il ranking dato dall'approsimazione bayesiana è si avvicina meno a quello utilizzato da Bgg"
   ]
  },
  {
   "cell_type": "markdown",
   "id": "a399e5c5",
   "metadata": {},
   "source": [
    "# Qual'è il migliore?"
   ]
  },
  {
   "cell_type": "markdown",
   "id": "8f04c16a",
   "metadata": {},
   "source": [
    "Visto che il migliore gioco non dipende da un ranking ma da fattori totalmente soggettivi attraverso la classe Game verranno fatti inserire dall'utente dei parametri che filtreranno il dataset e restituiranno il miglior gioco adatto a lui."
   ]
  },
  {
   "cell_type": "code",
   "execution_count": 22,
   "id": "fe6c5576",
   "metadata": {},
   "outputs": [],
   "source": [
    "m=Funzioni.Game(kaggle)"
   ]
  },
  {
   "cell_type": "code",
   "execution_count": 23,
   "id": "cb7a33d2",
   "metadata": {},
   "outputs": [
    {
     "name": "stdout",
     "output_type": "stream",
     "text": [
      "Voglio un gioco che sia uscito dopo il: as\n"
     ]
    },
    {
     "ename": "ValueError",
     "evalue": "invalid literal for int() with base 10: 'as'",
     "output_type": "error",
     "traceback": [
      "\u001b[1;31m---------------------------------------------------------------------------\u001b[0m",
      "\u001b[1;31mValueError\u001b[0m                                Traceback (most recent call last)",
      "Input \u001b[1;32mIn [23]\u001b[0m, in \u001b[0;36m<cell line: 1>\u001b[1;34m()\u001b[0m\n\u001b[1;32m----> 1\u001b[0m \u001b[43mm\u001b[49m\u001b[38;5;241;43m.\u001b[39;49m\u001b[43mfilter\u001b[49m\u001b[43m(\u001b[49m\u001b[43m)\u001b[49m\n",
      "File \u001b[1;32m~\\Desktop\\Master\\Ferrara\\Funzioni.py:118\u001b[0m, in \u001b[0;36mGame.filter\u001b[1;34m(self)\u001b[0m\n\u001b[0;32m    116\u001b[0m \u001b[38;5;28;01mdef\u001b[39;00m \u001b[38;5;21mfilter\u001b[39m(\u001b[38;5;28mself\u001b[39m):\n\u001b[0;32m    117\u001b[0m     \u001b[38;5;66;03m# Chiedi all'utente i parametri di filtraggio\u001b[39;00m\n\u001b[1;32m--> 118\u001b[0m     anno_minimo \u001b[38;5;241m=\u001b[39m \u001b[38;5;28;43mint\u001b[39;49m\u001b[43m(\u001b[49m\u001b[38;5;28;43minput\u001b[39;49m\u001b[43m(\u001b[49m\u001b[38;5;124;43m\"\u001b[39;49m\u001b[38;5;124;43mVoglio un gioco che sia uscito dopo il: \u001b[39;49m\u001b[38;5;124;43m\"\u001b[39;49m\u001b[43m)\u001b[49m\u001b[43m)\u001b[49m\n\u001b[0;32m    119\u001b[0m     giocatori_minimi \u001b[38;5;241m=\u001b[39m \u001b[38;5;28mint\u001b[39m(\u001b[38;5;28minput\u001b[39m(\u001b[38;5;124m\"\u001b[39m\u001b[38;5;124mInserisci il numero minimo di giocatori: \u001b[39m\u001b[38;5;124m\"\u001b[39m))\n\u001b[0;32m    120\u001b[0m     giocatori_massimi \u001b[38;5;241m=\u001b[39m \u001b[38;5;28mint\u001b[39m(\u001b[38;5;28minput\u001b[39m(\u001b[38;5;124m\"\u001b[39m\u001b[38;5;124mInserisci il numero massimo di giocatori: \u001b[39m\u001b[38;5;124m\"\u001b[39m))\n",
      "\u001b[1;31mValueError\u001b[0m: invalid literal for int() with base 10: 'as'"
     ]
    }
   ],
   "source": [
    "m.filter()"
   ]
  }
 ],
 "metadata": {
  "kernelspec": {
   "display_name": "Python 3 (ipykernel)",
   "language": "python",
   "name": "python3"
  },
  "language_info": {
   "codemirror_mode": {
    "name": "ipython",
    "version": 3
   },
   "file_extension": ".py",
   "mimetype": "text/x-python",
   "name": "python",
   "nbconvert_exporter": "python",
   "pygments_lexer": "ipython3",
   "version": "3.9.12"
  }
 },
 "nbformat": 4,
 "nbformat_minor": 5
}
